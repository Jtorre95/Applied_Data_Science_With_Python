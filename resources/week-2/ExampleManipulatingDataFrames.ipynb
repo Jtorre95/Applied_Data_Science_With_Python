{
 "cells": [
  {
   "cell_type": "markdown",
   "metadata": {},
   "source": [
    "In this lecture I'm going to walk through a basic data cleaning process with you and introduce you to a few\n",
    "more pandas API functions."
   ]
  },
  {
   "cell_type": "code",
   "execution_count": 14,
   "metadata": {},
   "outputs": [
    {
     "data": {
      "text/html": [
       "<div>\n",
       "<style scoped>\n",
       "    .dataframe tbody tr th:only-of-type {\n",
       "        vertical-align: middle;\n",
       "    }\n",
       "\n",
       "    .dataframe tbody tr th {\n",
       "        vertical-align: top;\n",
       "    }\n",
       "\n",
       "    .dataframe thead th {\n",
       "        text-align: right;\n",
       "    }\n",
       "</style>\n",
       "<table border=\"1\" class=\"dataframe\">\n",
       "  <thead>\n",
       "    <tr style=\"text-align: right;\">\n",
       "      <th></th>\n",
       "      <th>#</th>\n",
       "      <th>President</th>\n",
       "      <th>Born</th>\n",
       "      <th>Age atstart of presidency</th>\n",
       "      <th>Age atend of presidency</th>\n",
       "      <th>Post-presidencytimespan</th>\n",
       "      <th>Died</th>\n",
       "      <th>Age</th>\n",
       "    </tr>\n",
       "  </thead>\n",
       "  <tbody>\n",
       "    <tr>\n",
       "      <th>0</th>\n",
       "      <td>1</td>\n",
       "      <td>George Washington</td>\n",
       "      <td>Feb 22, 1732[a]</td>\n",
       "      <td>57 years, 67 daysApr 30, 1789</td>\n",
       "      <td>65 years, 10 daysMar 4, 1797</td>\n",
       "      <td>2 years, 285 days</td>\n",
       "      <td>Dec 14, 1799</td>\n",
       "      <td>67 years, 295 days</td>\n",
       "    </tr>\n",
       "    <tr>\n",
       "      <th>1</th>\n",
       "      <td>2</td>\n",
       "      <td>John Adams</td>\n",
       "      <td>Oct 30, 1735[a]</td>\n",
       "      <td>61 years, 125 daysMar 4, 1797</td>\n",
       "      <td>65 years, 125 daysMar 4, 1801</td>\n",
       "      <td>25 years, 122 days</td>\n",
       "      <td>Jul 4, 1826</td>\n",
       "      <td>90 years, 247 days</td>\n",
       "    </tr>\n",
       "    <tr>\n",
       "      <th>2</th>\n",
       "      <td>3</td>\n",
       "      <td>Thomas Jefferson</td>\n",
       "      <td>Apr 13, 1743[a]</td>\n",
       "      <td>57 years, 325 daysMar 4, 1801</td>\n",
       "      <td>65 years, 325 daysMar 4, 1809</td>\n",
       "      <td>17 years, 122 days</td>\n",
       "      <td>Jul 4, 1826</td>\n",
       "      <td>83 years, 82 days</td>\n",
       "    </tr>\n",
       "    <tr>\n",
       "      <th>3</th>\n",
       "      <td>4</td>\n",
       "      <td>James Madison</td>\n",
       "      <td>Mar 16, 1751[a]</td>\n",
       "      <td>57 years, 353 daysMar 4, 1809</td>\n",
       "      <td>65 years, 353 daysMar 4, 1817</td>\n",
       "      <td>19 years, 116 days</td>\n",
       "      <td>Jun 28, 1836</td>\n",
       "      <td>85 years, 104 days</td>\n",
       "    </tr>\n",
       "    <tr>\n",
       "      <th>4</th>\n",
       "      <td>5</td>\n",
       "      <td>James Monroe</td>\n",
       "      <td>Apr 28, 1758</td>\n",
       "      <td>58 years, 310 daysMar 4, 1817</td>\n",
       "      <td>66 years, 310 daysMar 4, 1825</td>\n",
       "      <td>6 years, 122 days</td>\n",
       "      <td>Jul 4, 1831</td>\n",
       "      <td>73 years, 67 days</td>\n",
       "    </tr>\n",
       "  </tbody>\n",
       "</table>\n",
       "</div>"
      ],
      "text/plain": [
       "   #          President             Born      Age atstart of presidency  \\\n",
       "0  1  George Washington  Feb 22, 1732[a]  57 years, 67 daysApr 30, 1789   \n",
       "1  2         John Adams  Oct 30, 1735[a]  61 years, 125 daysMar 4, 1797   \n",
       "2  3   Thomas Jefferson  Apr 13, 1743[a]  57 years, 325 daysMar 4, 1801   \n",
       "3  4      James Madison  Mar 16, 1751[a]  57 years, 353 daysMar 4, 1809   \n",
       "4  5       James Monroe     Apr 28, 1758  58 years, 310 daysMar 4, 1817   \n",
       "\n",
       "         Age atend of presidency Post-presidencytimespan          Died  \\\n",
       "0   65 years, 10 daysMar 4, 1797       2 years, 285 days  Dec 14, 1799   \n",
       "1  65 years, 125 daysMar 4, 1801      25 years, 122 days   Jul 4, 1826   \n",
       "2  65 years, 325 daysMar 4, 1809      17 years, 122 days   Jul 4, 1826   \n",
       "3  65 years, 353 daysMar 4, 1817      19 years, 116 days  Jun 28, 1836   \n",
       "4  66 years, 310 daysMar 4, 1825       6 years, 122 days   Jul 4, 1831   \n",
       "\n",
       "                  Age  \n",
       "0  67 years, 295 days  \n",
       "1  90 years, 247 days  \n",
       "2   83 years, 82 days  \n",
       "3  85 years, 104 days  \n",
       "4   73 years, 67 days  "
      ]
     },
     "execution_count": 14,
     "metadata": {},
     "output_type": "execute_result"
    }
   ],
   "source": [
    "# Let's start by bringing in pandas\n",
    "import pandas as pd\n",
    "# And load our dataset. We're going to be cleaning the list of presidents in the US from wikipedia\n",
    "df=pd.read_csv(\"datasets/presidents.csv\")\n",
    "# And lets just take a look at some of the data\n",
    "df.head()"
   ]
  },
  {
   "cell_type": "code",
   "execution_count": 15,
   "metadata": {},
   "outputs": [
    {
     "data": {
      "text/html": [
       "<div>\n",
       "<style scoped>\n",
       "    .dataframe tbody tr th:only-of-type {\n",
       "        vertical-align: middle;\n",
       "    }\n",
       "\n",
       "    .dataframe tbody tr th {\n",
       "        vertical-align: top;\n",
       "    }\n",
       "\n",
       "    .dataframe thead th {\n",
       "        text-align: right;\n",
       "    }\n",
       "</style>\n",
       "<table border=\"1\" class=\"dataframe\">\n",
       "  <thead>\n",
       "    <tr style=\"text-align: right;\">\n",
       "      <th></th>\n",
       "      <th>#</th>\n",
       "      <th>President</th>\n",
       "      <th>Born</th>\n",
       "      <th>Age atstart of presidency</th>\n",
       "      <th>Age atend of presidency</th>\n",
       "      <th>Post-presidencytimespan</th>\n",
       "      <th>Died</th>\n",
       "      <th>Age</th>\n",
       "      <th>First</th>\n",
       "    </tr>\n",
       "  </thead>\n",
       "  <tbody>\n",
       "    <tr>\n",
       "      <th>0</th>\n",
       "      <td>1</td>\n",
       "      <td>George Washington</td>\n",
       "      <td>Feb 22, 1732[a]</td>\n",
       "      <td>57 years, 67 daysApr 30, 1789</td>\n",
       "      <td>65 years, 10 daysMar 4, 1797</td>\n",
       "      <td>2 years, 285 days</td>\n",
       "      <td>Dec 14, 1799</td>\n",
       "      <td>67 years, 295 days</td>\n",
       "      <td>George</td>\n",
       "    </tr>\n",
       "    <tr>\n",
       "      <th>1</th>\n",
       "      <td>2</td>\n",
       "      <td>John Adams</td>\n",
       "      <td>Oct 30, 1735[a]</td>\n",
       "      <td>61 years, 125 daysMar 4, 1797</td>\n",
       "      <td>65 years, 125 daysMar 4, 1801</td>\n",
       "      <td>25 years, 122 days</td>\n",
       "      <td>Jul 4, 1826</td>\n",
       "      <td>90 years, 247 days</td>\n",
       "      <td>John</td>\n",
       "    </tr>\n",
       "    <tr>\n",
       "      <th>2</th>\n",
       "      <td>3</td>\n",
       "      <td>Thomas Jefferson</td>\n",
       "      <td>Apr 13, 1743[a]</td>\n",
       "      <td>57 years, 325 daysMar 4, 1801</td>\n",
       "      <td>65 years, 325 daysMar 4, 1809</td>\n",
       "      <td>17 years, 122 days</td>\n",
       "      <td>Jul 4, 1826</td>\n",
       "      <td>83 years, 82 days</td>\n",
       "      <td>Thomas</td>\n",
       "    </tr>\n",
       "    <tr>\n",
       "      <th>3</th>\n",
       "      <td>4</td>\n",
       "      <td>James Madison</td>\n",
       "      <td>Mar 16, 1751[a]</td>\n",
       "      <td>57 years, 353 daysMar 4, 1809</td>\n",
       "      <td>65 years, 353 daysMar 4, 1817</td>\n",
       "      <td>19 years, 116 days</td>\n",
       "      <td>Jun 28, 1836</td>\n",
       "      <td>85 years, 104 days</td>\n",
       "      <td>James</td>\n",
       "    </tr>\n",
       "    <tr>\n",
       "      <th>4</th>\n",
       "      <td>5</td>\n",
       "      <td>James Monroe</td>\n",
       "      <td>Apr 28, 1758</td>\n",
       "      <td>58 years, 310 daysMar 4, 1817</td>\n",
       "      <td>66 years, 310 daysMar 4, 1825</td>\n",
       "      <td>6 years, 122 days</td>\n",
       "      <td>Jul 4, 1831</td>\n",
       "      <td>73 years, 67 days</td>\n",
       "      <td>James</td>\n",
       "    </tr>\n",
       "  </tbody>\n",
       "</table>\n",
       "</div>"
      ],
      "text/plain": [
       "   #          President             Born      Age atstart of presidency  \\\n",
       "0  1  George Washington  Feb 22, 1732[a]  57 years, 67 daysApr 30, 1789   \n",
       "1  2         John Adams  Oct 30, 1735[a]  61 years, 125 daysMar 4, 1797   \n",
       "2  3   Thomas Jefferson  Apr 13, 1743[a]  57 years, 325 daysMar 4, 1801   \n",
       "3  4      James Madison  Mar 16, 1751[a]  57 years, 353 daysMar 4, 1809   \n",
       "4  5       James Monroe     Apr 28, 1758  58 years, 310 daysMar 4, 1817   \n",
       "\n",
       "         Age atend of presidency Post-presidencytimespan          Died  \\\n",
       "0   65 years, 10 daysMar 4, 1797       2 years, 285 days  Dec 14, 1799   \n",
       "1  65 years, 125 daysMar 4, 1801      25 years, 122 days   Jul 4, 1826   \n",
       "2  65 years, 325 daysMar 4, 1809      17 years, 122 days   Jul 4, 1826   \n",
       "3  65 years, 353 daysMar 4, 1817      19 years, 116 days  Jun 28, 1836   \n",
       "4  66 years, 310 daysMar 4, 1825       6 years, 122 days   Jul 4, 1831   \n",
       "\n",
       "                  Age   First  \n",
       "0  67 years, 295 days  George  \n",
       "1  90 years, 247 days    John  \n",
       "2   83 years, 82 days  Thomas  \n",
       "3  85 years, 104 days   James  \n",
       "4   73 years, 67 days   James  "
      ]
     },
     "execution_count": 15,
     "metadata": {},
     "output_type": "execute_result"
    }
   ],
   "source": [
    "# Ok, we have some presidents, some dates, I see a bunch of footnotes in the \"Born\" column which might cause\n",
    "# issues. Let's start with cleaning up that name into firstname and lastname. I'm going to tackle this with\n",
    "# a regex. So I want to create two new columns and apply a regex to the projection of the \"President\" column.\n",
    "\n",
    "# Here's one solution, we could make a copy of the President column\n",
    "df[\"First\"]=df['President']\n",
    "# Then we can call replace() and just have a pattern that matches the last name and set it to an empty string\n",
    "df[\"First\"]=df[\"First\"].replace(\"[ ].*\", \"\", regex=True)\n",
    "# Now let's take a look\n",
    "df.head()"
   ]
  },
  {
   "cell_type": "code",
   "execution_count": 17,
   "metadata": {},
   "outputs": [
    {
     "data": {
      "text/html": [
       "<div>\n",
       "<style scoped>\n",
       "    .dataframe tbody tr th:only-of-type {\n",
       "        vertical-align: middle;\n",
       "    }\n",
       "\n",
       "    .dataframe tbody tr th {\n",
       "        vertical-align: top;\n",
       "    }\n",
       "\n",
       "    .dataframe thead th {\n",
       "        text-align: right;\n",
       "    }\n",
       "</style>\n",
       "<table border=\"1\" class=\"dataframe\">\n",
       "  <thead>\n",
       "    <tr style=\"text-align: right;\">\n",
       "      <th></th>\n",
       "      <th>#</th>\n",
       "      <th>President</th>\n",
       "      <th>Born</th>\n",
       "      <th>Age atstart of presidency</th>\n",
       "      <th>Age atend of presidency</th>\n",
       "      <th>Post-presidencytimespan</th>\n",
       "      <th>Died</th>\n",
       "      <th>Age</th>\n",
       "      <th>Last</th>\n",
       "      <th>First</th>\n",
       "    </tr>\n",
       "  </thead>\n",
       "  <tbody>\n",
       "    <tr>\n",
       "      <th>0</th>\n",
       "      <td>1</td>\n",
       "      <td>George Washington</td>\n",
       "      <td>Feb 22, 1732[a]</td>\n",
       "      <td>57 years, 67 daysApr 30, 1789</td>\n",
       "      <td>65 years, 10 daysMar 4, 1797</td>\n",
       "      <td>2 years, 285 days</td>\n",
       "      <td>Dec 14, 1799</td>\n",
       "      <td>67 years, 295 days</td>\n",
       "      <td>Washington</td>\n",
       "      <td>George</td>\n",
       "    </tr>\n",
       "    <tr>\n",
       "      <th>1</th>\n",
       "      <td>2</td>\n",
       "      <td>John Adams</td>\n",
       "      <td>Oct 30, 1735[a]</td>\n",
       "      <td>61 years, 125 daysMar 4, 1797</td>\n",
       "      <td>65 years, 125 daysMar 4, 1801</td>\n",
       "      <td>25 years, 122 days</td>\n",
       "      <td>Jul 4, 1826</td>\n",
       "      <td>90 years, 247 days</td>\n",
       "      <td>Adams</td>\n",
       "      <td>John</td>\n",
       "    </tr>\n",
       "    <tr>\n",
       "      <th>2</th>\n",
       "      <td>3</td>\n",
       "      <td>Thomas Jefferson</td>\n",
       "      <td>Apr 13, 1743[a]</td>\n",
       "      <td>57 years, 325 daysMar 4, 1801</td>\n",
       "      <td>65 years, 325 daysMar 4, 1809</td>\n",
       "      <td>17 years, 122 days</td>\n",
       "      <td>Jul 4, 1826</td>\n",
       "      <td>83 years, 82 days</td>\n",
       "      <td>Jefferson</td>\n",
       "      <td>Thomas</td>\n",
       "    </tr>\n",
       "    <tr>\n",
       "      <th>3</th>\n",
       "      <td>4</td>\n",
       "      <td>James Madison</td>\n",
       "      <td>Mar 16, 1751[a]</td>\n",
       "      <td>57 years, 353 daysMar 4, 1809</td>\n",
       "      <td>65 years, 353 daysMar 4, 1817</td>\n",
       "      <td>19 years, 116 days</td>\n",
       "      <td>Jun 28, 1836</td>\n",
       "      <td>85 years, 104 days</td>\n",
       "      <td>Madison</td>\n",
       "      <td>James</td>\n",
       "    </tr>\n",
       "    <tr>\n",
       "      <th>4</th>\n",
       "      <td>5</td>\n",
       "      <td>James Monroe</td>\n",
       "      <td>Apr 28, 1758</td>\n",
       "      <td>58 years, 310 daysMar 4, 1817</td>\n",
       "      <td>66 years, 310 daysMar 4, 1825</td>\n",
       "      <td>6 years, 122 days</td>\n",
       "      <td>Jul 4, 1831</td>\n",
       "      <td>73 years, 67 days</td>\n",
       "      <td>Monroe</td>\n",
       "      <td>James</td>\n",
       "    </tr>\n",
       "  </tbody>\n",
       "</table>\n",
       "</div>"
      ],
      "text/plain": [
       "   #          President             Born      Age atstart of presidency  \\\n",
       "0  1  George Washington  Feb 22, 1732[a]  57 years, 67 daysApr 30, 1789   \n",
       "1  2         John Adams  Oct 30, 1735[a]  61 years, 125 daysMar 4, 1797   \n",
       "2  3   Thomas Jefferson  Apr 13, 1743[a]  57 years, 325 daysMar 4, 1801   \n",
       "3  4      James Madison  Mar 16, 1751[a]  57 years, 353 daysMar 4, 1809   \n",
       "4  5       James Monroe     Apr 28, 1758  58 years, 310 daysMar 4, 1817   \n",
       "\n",
       "         Age atend of presidency Post-presidencytimespan          Died  \\\n",
       "0   65 years, 10 daysMar 4, 1797       2 years, 285 days  Dec 14, 1799   \n",
       "1  65 years, 125 daysMar 4, 1801      25 years, 122 days   Jul 4, 1826   \n",
       "2  65 years, 325 daysMar 4, 1809      17 years, 122 days   Jul 4, 1826   \n",
       "3  65 years, 353 daysMar 4, 1817      19 years, 116 days  Jun 28, 1836   \n",
       "4  66 years, 310 daysMar 4, 1825       6 years, 122 days   Jul 4, 1831   \n",
       "\n",
       "                  Age        Last   First  \n",
       "0  67 years, 295 days  Washington  George  \n",
       "1  90 years, 247 days       Adams    John  \n",
       "2   83 years, 82 days   Jefferson  Thomas  \n",
       "3  85 years, 104 days     Madison   James  \n",
       "4   73 years, 67 days      Monroe   James  "
      ]
     },
     "execution_count": 17,
     "metadata": {},
     "output_type": "execute_result"
    }
   ],
   "source": [
    "# That works, but it's kind of gross. And it's slow, since we had to make a full copy of a column then go\n",
    "# through and update strings. There are a few other ways we can deal with this. Let me show you the most \n",
    "# general one first, and that's called the apply() function. Let's drop the column we made first\n",
    "del(df[\"First\"])\n",
    "\n",
    "# The apply() function on a dataframe will take some arbitrary function you have written and apply it to\n",
    "# either a Series (a single column) or DataFrame across all rows or columns. Lets write a function which\n",
    "# just splits a string into two pieces using a single row of data\n",
    "def splitname(row):\n",
    "    # The row is a single Series object which is a single row indexed by column values\n",
    "    # Let's extract the firstname and create a new entry in the series\n",
    "    row['First']=row['President'].split(\" \")[0]\n",
    "    # Let's do the same with the last word in the string\n",
    "    row['Last']=row['President'].split(\" \")[-1]\n",
    "    # Now we just return the row and the pandas .apply() will take of merging them back into a DataFrame\n",
    "    return row\n",
    "\n",
    "# Now if we apply this to the dataframe indicating we want to apply it across columns\n",
    "df=df.apply(splitname, axis='columns')\n",
    "df.head()"
   ]
  },
  {
   "cell_type": "code",
   "execution_count": 18,
   "metadata": {},
   "outputs": [
    {
     "data": {
      "text/html": [
       "<div>\n",
       "<style scoped>\n",
       "    .dataframe tbody tr th:only-of-type {\n",
       "        vertical-align: middle;\n",
       "    }\n",
       "\n",
       "    .dataframe tbody tr th {\n",
       "        vertical-align: top;\n",
       "    }\n",
       "\n",
       "    .dataframe thead th {\n",
       "        text-align: right;\n",
       "    }\n",
       "</style>\n",
       "<table border=\"1\" class=\"dataframe\">\n",
       "  <thead>\n",
       "    <tr style=\"text-align: right;\">\n",
       "      <th></th>\n",
       "      <th>0</th>\n",
       "      <th>1</th>\n",
       "    </tr>\n",
       "  </thead>\n",
       "  <tbody>\n",
       "    <tr>\n",
       "      <th>0</th>\n",
       "      <td>George</td>\n",
       "      <td>Washington</td>\n",
       "    </tr>\n",
       "    <tr>\n",
       "      <th>1</th>\n",
       "      <td>John</td>\n",
       "      <td>Adams</td>\n",
       "    </tr>\n",
       "    <tr>\n",
       "      <th>2</th>\n",
       "      <td>Thomas</td>\n",
       "      <td>Jefferson</td>\n",
       "    </tr>\n",
       "    <tr>\n",
       "      <th>3</th>\n",
       "      <td>James</td>\n",
       "      <td>Madison</td>\n",
       "    </tr>\n",
       "    <tr>\n",
       "      <th>4</th>\n",
       "      <td>James</td>\n",
       "      <td>Monroe</td>\n",
       "    </tr>\n",
       "  </tbody>\n",
       "</table>\n",
       "</div>"
      ],
      "text/plain": [
       "        0           1\n",
       "0  George  Washington\n",
       "1    John       Adams\n",
       "2  Thomas   Jefferson\n",
       "3   James     Madison\n",
       "4   James      Monroe"
      ]
     },
     "execution_count": 18,
     "metadata": {},
     "output_type": "execute_result"
    }
   ],
   "source": [
    "# Pretty questionable as to whether that is less gross, but it achieves the result and I find that I use the\n",
    "# apply() function regularly in my work. The pandas series has a couple of other nice convenience functions\n",
    "# though, and the next I would like to touch on is called .extract(). Lets drop our firstname and lastname.\n",
    "del(df['First'])\n",
    "del(df['Last'])\n",
    "\n",
    "# Extract takes a regular expression as input and specifically requires you to set capture groups that\n",
    "# correspond to the output columns you are interested in. And, this is a great place for you to pause the\n",
    "# video and reflect - if you were going to write a regular expression that returned groups and just had the\n",
    "# firstname and lastname in it, what would that look like?\n",
    "\n",
    "# Here's my solution, where we match three groups but only return two, the first and the last name\n",
    "pattern=\"(^[\\w]*)(?:.* )([\\w]*$)\"\n",
    "\n",
    "# Now the extract function is built into the str attribute of the Series object, so we can call it\n",
    "# using Series.str.extract(pattern)\n",
    "df[\"President\"].str.extract(pattern).head()"
   ]
  },
  {
   "cell_type": "code",
   "execution_count": 19,
   "metadata": {},
   "outputs": [
    {
     "data": {
      "text/html": [
       "<div>\n",
       "<style scoped>\n",
       "    .dataframe tbody tr th:only-of-type {\n",
       "        vertical-align: middle;\n",
       "    }\n",
       "\n",
       "    .dataframe tbody tr th {\n",
       "        vertical-align: top;\n",
       "    }\n",
       "\n",
       "    .dataframe thead th {\n",
       "        text-align: right;\n",
       "    }\n",
       "</style>\n",
       "<table border=\"1\" class=\"dataframe\">\n",
       "  <thead>\n",
       "    <tr style=\"text-align: right;\">\n",
       "      <th></th>\n",
       "      <th>First</th>\n",
       "      <th>Last</th>\n",
       "    </tr>\n",
       "  </thead>\n",
       "  <tbody>\n",
       "    <tr>\n",
       "      <th>0</th>\n",
       "      <td>George</td>\n",
       "      <td>Washington</td>\n",
       "    </tr>\n",
       "    <tr>\n",
       "      <th>1</th>\n",
       "      <td>John</td>\n",
       "      <td>Adams</td>\n",
       "    </tr>\n",
       "    <tr>\n",
       "      <th>2</th>\n",
       "      <td>Thomas</td>\n",
       "      <td>Jefferson</td>\n",
       "    </tr>\n",
       "    <tr>\n",
       "      <th>3</th>\n",
       "      <td>James</td>\n",
       "      <td>Madison</td>\n",
       "    </tr>\n",
       "    <tr>\n",
       "      <th>4</th>\n",
       "      <td>James</td>\n",
       "      <td>Monroe</td>\n",
       "    </tr>\n",
       "  </tbody>\n",
       "</table>\n",
       "</div>"
      ],
      "text/plain": [
       "    First        Last\n",
       "0  George  Washington\n",
       "1    John       Adams\n",
       "2  Thomas   Jefferson\n",
       "3   James     Madison\n",
       "4   James      Monroe"
      ]
     },
     "execution_count": 19,
     "metadata": {},
     "output_type": "execute_result"
    }
   ],
   "source": [
    "# So that looks pretty nice, other than the column names. But if we name the groups we get named columns out\n",
    "pattern=\"(?P<First>^[\\w]*)(?:.* )(?P<Last>[\\w]*$)\"\n",
    "\n",
    "# Now call extract\n",
    "names=df[\"President\"].str.extract(pattern).head()\n",
    "names"
   ]
  },
  {
   "cell_type": "code",
   "execution_count": 20,
   "metadata": {},
   "outputs": [
    {
     "data": {
      "text/html": [
       "<div>\n",
       "<style scoped>\n",
       "    .dataframe tbody tr th:only-of-type {\n",
       "        vertical-align: middle;\n",
       "    }\n",
       "\n",
       "    .dataframe tbody tr th {\n",
       "        vertical-align: top;\n",
       "    }\n",
       "\n",
       "    .dataframe thead th {\n",
       "        text-align: right;\n",
       "    }\n",
       "</style>\n",
       "<table border=\"1\" class=\"dataframe\">\n",
       "  <thead>\n",
       "    <tr style=\"text-align: right;\">\n",
       "      <th></th>\n",
       "      <th>#</th>\n",
       "      <th>President</th>\n",
       "      <th>Born</th>\n",
       "      <th>Age atstart of presidency</th>\n",
       "      <th>Age atend of presidency</th>\n",
       "      <th>Post-presidencytimespan</th>\n",
       "      <th>Died</th>\n",
       "      <th>Age</th>\n",
       "      <th>First</th>\n",
       "      <th>Last</th>\n",
       "    </tr>\n",
       "  </thead>\n",
       "  <tbody>\n",
       "    <tr>\n",
       "      <th>0</th>\n",
       "      <td>1</td>\n",
       "      <td>George Washington</td>\n",
       "      <td>Feb 22, 1732[a]</td>\n",
       "      <td>57 years, 67 daysApr 30, 1789</td>\n",
       "      <td>65 years, 10 daysMar 4, 1797</td>\n",
       "      <td>2 years, 285 days</td>\n",
       "      <td>Dec 14, 1799</td>\n",
       "      <td>67 years, 295 days</td>\n",
       "      <td>George</td>\n",
       "      <td>Washington</td>\n",
       "    </tr>\n",
       "    <tr>\n",
       "      <th>1</th>\n",
       "      <td>2</td>\n",
       "      <td>John Adams</td>\n",
       "      <td>Oct 30, 1735[a]</td>\n",
       "      <td>61 years, 125 daysMar 4, 1797</td>\n",
       "      <td>65 years, 125 daysMar 4, 1801</td>\n",
       "      <td>25 years, 122 days</td>\n",
       "      <td>Jul 4, 1826</td>\n",
       "      <td>90 years, 247 days</td>\n",
       "      <td>John</td>\n",
       "      <td>Adams</td>\n",
       "    </tr>\n",
       "    <tr>\n",
       "      <th>2</th>\n",
       "      <td>3</td>\n",
       "      <td>Thomas Jefferson</td>\n",
       "      <td>Apr 13, 1743[a]</td>\n",
       "      <td>57 years, 325 daysMar 4, 1801</td>\n",
       "      <td>65 years, 325 daysMar 4, 1809</td>\n",
       "      <td>17 years, 122 days</td>\n",
       "      <td>Jul 4, 1826</td>\n",
       "      <td>83 years, 82 days</td>\n",
       "      <td>Thomas</td>\n",
       "      <td>Jefferson</td>\n",
       "    </tr>\n",
       "    <tr>\n",
       "      <th>3</th>\n",
       "      <td>4</td>\n",
       "      <td>James Madison</td>\n",
       "      <td>Mar 16, 1751[a]</td>\n",
       "      <td>57 years, 353 daysMar 4, 1809</td>\n",
       "      <td>65 years, 353 daysMar 4, 1817</td>\n",
       "      <td>19 years, 116 days</td>\n",
       "      <td>Jun 28, 1836</td>\n",
       "      <td>85 years, 104 days</td>\n",
       "      <td>James</td>\n",
       "      <td>Madison</td>\n",
       "    </tr>\n",
       "    <tr>\n",
       "      <th>4</th>\n",
       "      <td>5</td>\n",
       "      <td>James Monroe</td>\n",
       "      <td>Apr 28, 1758</td>\n",
       "      <td>58 years, 310 daysMar 4, 1817</td>\n",
       "      <td>66 years, 310 daysMar 4, 1825</td>\n",
       "      <td>6 years, 122 days</td>\n",
       "      <td>Jul 4, 1831</td>\n",
       "      <td>73 years, 67 days</td>\n",
       "      <td>James</td>\n",
       "      <td>Monroe</td>\n",
       "    </tr>\n",
       "  </tbody>\n",
       "</table>\n",
       "</div>"
      ],
      "text/plain": [
       "   #          President             Born      Age atstart of presidency  \\\n",
       "0  1  George Washington  Feb 22, 1732[a]  57 years, 67 daysApr 30, 1789   \n",
       "1  2         John Adams  Oct 30, 1735[a]  61 years, 125 daysMar 4, 1797   \n",
       "2  3   Thomas Jefferson  Apr 13, 1743[a]  57 years, 325 daysMar 4, 1801   \n",
       "3  4      James Madison  Mar 16, 1751[a]  57 years, 353 daysMar 4, 1809   \n",
       "4  5       James Monroe     Apr 28, 1758  58 years, 310 daysMar 4, 1817   \n",
       "\n",
       "         Age atend of presidency Post-presidencytimespan          Died  \\\n",
       "0   65 years, 10 daysMar 4, 1797       2 years, 285 days  Dec 14, 1799   \n",
       "1  65 years, 125 daysMar 4, 1801      25 years, 122 days   Jul 4, 1826   \n",
       "2  65 years, 325 daysMar 4, 1809      17 years, 122 days   Jul 4, 1826   \n",
       "3  65 years, 353 daysMar 4, 1817      19 years, 116 days  Jun 28, 1836   \n",
       "4  66 years, 310 daysMar 4, 1825       6 years, 122 days   Jul 4, 1831   \n",
       "\n",
       "                  Age   First        Last  \n",
       "0  67 years, 295 days  George  Washington  \n",
       "1  90 years, 247 days    John       Adams  \n",
       "2   83 years, 82 days  Thomas   Jefferson  \n",
       "3  85 years, 104 days   James     Madison  \n",
       "4   73 years, 67 days   James      Monroe  "
      ]
     },
     "execution_count": 20,
     "metadata": {},
     "output_type": "execute_result"
    }
   ],
   "source": [
    "# And we can just copy these into our main dataframe if we want to\n",
    "df[\"First\"]=names[\"First\"]\n",
    "df[\"Last\"]=names[\"Last\"]\n",
    "df.head()"
   ]
  },
  {
   "cell_type": "code",
   "execution_count": 7,
   "metadata": {},
   "outputs": [],
   "source": [
    "# It's worth looking at the pandas str module for other functions which have been written specifically\n",
    "# to clean up strings in DataFrames, and you can find that in the docs in the Working with Text\n",
    "# section: https://pandas.pydata.org/pandas-docs/stable/user_guide/text.html"
   ]
  },
  {
   "cell_type": "code",
   "execution_count": 22,
   "metadata": {},
   "outputs": [
    {
     "data": {
      "text/plain": [
       "0    Feb 22, 1732\n",
       "1    Oct 30, 1735\n",
       "2    Apr 13, 1743\n",
       "3    Mar 16, 1751\n",
       "4    Apr 28, 1758\n",
       "Name: Born, dtype: object"
      ]
     },
     "execution_count": 22,
     "metadata": {},
     "output_type": "execute_result"
    }
   ],
   "source": [
    "# Now lets move on to clean up that Born column. First, let's get rid of anything that isn't in the\n",
    "# pattern of Month Day and Year.\n",
    "df[\"Born\"]=df[\"Born\"].str.extract(\"([\\w]{3} [\\w]{1,2}, [\\w]{4})\")\n",
    "df[\"Born\"].head()"
   ]
  },
  {
   "cell_type": "code",
   "execution_count": 23,
   "metadata": {},
   "outputs": [
    {
     "data": {
      "text/plain": [
       "0   1732-02-22\n",
       "1   1735-10-30\n",
       "2   1743-04-13\n",
       "3   1751-03-16\n",
       "4   1758-04-28\n",
       "Name: Born, dtype: datetime64[ns]"
      ]
     },
     "execution_count": 23,
     "metadata": {},
     "output_type": "execute_result"
    }
   ],
   "source": [
    "# So, that cleans up the date format. But I'm going to foreshadow something else here - the type of this\n",
    "# column is object, and we know that's what pandas uses when it is dealing with string. But pandas actually\n",
    "# has really interesting date/time features - in fact, that's one of the reasons Wes McKinney put his efforts\n",
    "# into the library, to deal with financial transactions. So if I were building this out, I would actually\n",
    "# update this column to the write data type as well\n",
    "df[\"Born\"]=pd.to_datetime(df[\"Born\"])\n",
    "df[\"Born\"].head()"
   ]
  },
  {
   "cell_type": "code",
   "execution_count": 10,
   "metadata": {},
   "outputs": [],
   "source": [
    "# This would make subsequent processing on the dataframe around dates, such as getting every President who\n",
    "# was born in a given time span, much easier."
   ]
  },
  {
   "cell_type": "markdown",
   "metadata": {},
   "source": [
    "Now, most of the other columns in this dataset I would clean in a similar fashion. And this would be a good\n",
    "practice activity for you, so I would recommend that you pause the video, open up the notebook for the\n",
    "lecture if you don't already have it opened, and then finish cleaning up this dataframe. In this lecture I\n",
    "introduced you to the str module which has a number of important functions for cleaning pandas dataframes.\n",
    "You don't have to use these - I actually use apply() quite a bit myself, especially if I don't need high\n",
    "performance data cleaning because my dataset is small. But the str functions are incredibly useful and build\n",
    "on your existing knowledge of regular expressions, and because they are vectorized they are efficient to use\n",
    "as well. "
   ]
  },
  {
   "cell_type": "markdown",
   "metadata": {},
   "source": [
    "1. For the following code, which of the following statements will not return True?"
   ]
  },
  {
   "cell_type": "code",
   "execution_count": 24,
   "metadata": {},
   "outputs": [],
   "source": [
    "import pandas as pd\n",
    "sdata = {'Ohio': 35000, 'Texas': 71000, 'Oregon': 16000, 'Utah': 5000}\n",
    "obj1 = pd.Series(sdata)\n",
    "states = ['California', 'Ohio', 'Oregon', 'Texas']\n",
    "obj2 = pd.Series(sdata, index=states)\n",
    "obj3 = pd.isnull(obj2)"
   ]
  },
  {
   "cell_type": "code",
   "execution_count": 33,
   "metadata": {},
   "outputs": [
    {
     "data": {
      "text/plain": [
       "Ohio      35000\n",
       "Texas     71000\n",
       "Oregon    16000\n",
       "Utah       5000\n",
       "dtype: int64"
      ]
     },
     "execution_count": 33,
     "metadata": {},
     "output_type": "execute_result"
    }
   ],
   "source": [
    "obj1"
   ]
  },
  {
   "cell_type": "code",
   "execution_count": 34,
   "metadata": {},
   "outputs": [
    {
     "data": {
      "text/plain": [
       "California        NaN\n",
       "Ohio          35000.0\n",
       "Oregon        16000.0\n",
       "Texas         71000.0\n",
       "dtype: float64"
      ]
     },
     "execution_count": 34,
     "metadata": {},
     "output_type": "execute_result"
    }
   ],
   "source": [
    "obj2"
   ]
  },
  {
   "cell_type": "code",
   "execution_count": 35,
   "metadata": {},
   "outputs": [
    {
     "data": {
      "text/plain": [
       "California     True\n",
       "Ohio          False\n",
       "Oregon        False\n",
       "Texas         False\n",
       "dtype: bool"
      ]
     },
     "execution_count": 35,
     "metadata": {},
     "output_type": "execute_result"
    }
   ],
   "source": [
    "obj3"
   ]
  },
  {
   "cell_type": "code",
   "execution_count": 25,
   "metadata": {},
   "outputs": [
    {
     "data": {
      "text/plain": [
       "True"
      ]
     },
     "execution_count": 25,
     "metadata": {},
     "output_type": "execute_result"
    }
   ],
   "source": [
    "import math\n",
    "math.isnan(obj2['California'])"
   ]
  },
  {
   "cell_type": "code",
   "execution_count": 26,
   "metadata": {},
   "outputs": [
    {
     "data": {
      "text/plain": [
       "False"
      ]
     },
     "execution_count": 26,
     "metadata": {},
     "output_type": "execute_result"
    }
   ],
   "source": [
    "obj2['California'] == None"
   ]
  },
  {
   "cell_type": "code",
   "execution_count": 27,
   "metadata": {},
   "outputs": [
    {
     "data": {
      "text/plain": [
       "True"
      ]
     },
     "execution_count": 27,
     "metadata": {},
     "output_type": "execute_result"
    }
   ],
   "source": [
    "x = obj2['California']\n",
    "obj2['California'] != x"
   ]
  },
  {
   "cell_type": "code",
   "execution_count": 28,
   "metadata": {},
   "outputs": [
    {
     "data": {
      "text/plain": [
       "True"
      ]
     },
     "execution_count": 28,
     "metadata": {},
     "output_type": "execute_result"
    }
   ],
   "source": [
    "obj3['California']"
   ]
  },
  {
   "cell_type": "markdown",
   "metadata": {},
   "source": [
    "2. the keys of the dictionary d represent student ranks and the value for each key is a student name. Which of the following can be used to extract rows with student ranks that are lower than or equal to 3?"
   ]
  },
  {
   "cell_type": "code",
   "execution_count": 29,
   "metadata": {},
   "outputs": [],
   "source": [
    "import pandas as pd\n",
    "d = {'1': 'Alice','2': 'Bob','3': 'Rita','4': 'Molly','5': 'Ryan'}\n",
    "S = pd.Series(d)"
   ]
  },
  {
   "cell_type": "code",
   "execution_count": 31,
   "metadata": {},
   "outputs": [
    {
     "data": {
      "text/plain": [
       "1    Alice\n",
       "2      Bob\n",
       "3     Rita\n",
       "4    Molly\n",
       "5     Ryan\n",
       "dtype: object"
      ]
     },
     "execution_count": 31,
     "metadata": {},
     "output_type": "execute_result"
    }
   ],
   "source": [
    "S"
   ]
  },
  {
   "cell_type": "code",
   "execution_count": 37,
   "metadata": {},
   "outputs": [
    {
     "data": {
      "text/plain": [
       "1    Alice\n",
       "2      Bob\n",
       "3     Rita\n",
       "dtype: object"
      ]
     },
     "execution_count": 37,
     "metadata": {},
     "output_type": "execute_result"
    }
   ],
   "source": [
    "S.iloc[0:3]"
   ]
  },
  {
   "cell_type": "code",
   "execution_count": 38,
   "metadata": {},
   "outputs": [
    {
     "data": {
      "text/plain": [
       "1    Alice\n",
       "2      Bob\n",
       "dtype: object"
      ]
     },
     "execution_count": 38,
     "metadata": {},
     "output_type": "execute_result"
    }
   ],
   "source": [
    "S.iloc[0:2]"
   ]
  },
  {
   "cell_type": "markdown",
   "metadata": {},
   "source": [
    "7. For the Series s1 and s2 defined below, which of the following statements will give an error?"
   ]
  },
  {
   "cell_type": "code",
   "execution_count": 43,
   "metadata": {},
   "outputs": [],
   "source": [
    "s1 = pd.Series({1: 'Alice', 2: 'Jack', 3: 'Molly'})\n",
    "s2 = pd.Series({'Alice': 1, 'Jack': 2, 'Molly': 3})"
   ]
  },
  {
   "cell_type": "code",
   "execution_count": 40,
   "metadata": {},
   "outputs": [
    {
     "data": {
      "text/plain": [
       "1    Alice\n",
       "2     Jack\n",
       "3    Molly\n",
       "dtype: object"
      ]
     },
     "execution_count": 40,
     "metadata": {},
     "output_type": "execute_result"
    }
   ],
   "source": [
    "s1"
   ]
  },
  {
   "cell_type": "code",
   "execution_count": 41,
   "metadata": {},
   "outputs": [
    {
     "data": {
      "text/plain": [
       "Alice    1\n",
       "Jack     2\n",
       "Molly    3\n",
       "dtype: int64"
      ]
     },
     "execution_count": 41,
     "metadata": {},
     "output_type": "execute_result"
    }
   ],
   "source": [
    "s2"
   ]
  },
  {
   "cell_type": "code",
   "execution_count": 42,
   "metadata": {},
   "outputs": [
    {
     "data": {
      "text/plain": [
       "2"
      ]
     },
     "execution_count": 42,
     "metadata": {},
     "output_type": "execute_result"
    }
   ],
   "source": [
    "\n",
    "s2[1]"
   ]
  },
  {
   "cell_type": "code",
   "execution_count": 44,
   "metadata": {},
   "outputs": [
    {
     "data": {
      "text/plain": [
       "2"
      ]
     },
     "execution_count": 44,
     "metadata": {},
     "output_type": "execute_result"
    }
   ],
   "source": [
    "s2.iloc[1]"
   ]
  },
  {
   "cell_type": "code",
   "execution_count": 45,
   "metadata": {},
   "outputs": [
    {
     "ename": "TypeError",
     "evalue": "cannot do label indexing on <class 'pandas.core.indexes.base.Index'> with these indexers [1] of <class 'int'>",
     "output_type": "error",
     "traceback": [
      "\u001b[0;31m---------------------------------------------------------------------------\u001b[0m",
      "\u001b[0;31mTypeError\u001b[0m                                 Traceback (most recent call last)",
      "\u001b[0;32m<ipython-input-45-42fe26c38f36>\u001b[0m in \u001b[0;36m<module>\u001b[0;34m\u001b[0m\n\u001b[0;32m----> 1\u001b[0;31m \u001b[0ms2\u001b[0m\u001b[0;34m.\u001b[0m\u001b[0mloc\u001b[0m\u001b[0;34m[\u001b[0m\u001b[0;36m1\u001b[0m\u001b[0;34m]\u001b[0m\u001b[0;34m\u001b[0m\u001b[0;34m\u001b[0m\u001b[0m\n\u001b[0m",
      "\u001b[0;32m/opt/conda/lib/python3.7/site-packages/pandas/core/indexing.py\u001b[0m in \u001b[0;36m__getitem__\u001b[0;34m(self, key)\u001b[0m\n\u001b[1;32m   1408\u001b[0m \u001b[0;34m\u001b[0m\u001b[0m\n\u001b[1;32m   1409\u001b[0m             \u001b[0mmaybe_callable\u001b[0m \u001b[0;34m=\u001b[0m \u001b[0mcom\u001b[0m\u001b[0;34m.\u001b[0m\u001b[0mapply_if_callable\u001b[0m\u001b[0;34m(\u001b[0m\u001b[0mkey\u001b[0m\u001b[0;34m,\u001b[0m \u001b[0mself\u001b[0m\u001b[0;34m.\u001b[0m\u001b[0mobj\u001b[0m\u001b[0;34m)\u001b[0m\u001b[0;34m\u001b[0m\u001b[0;34m\u001b[0m\u001b[0m\n\u001b[0;32m-> 1410\u001b[0;31m             \u001b[0;32mreturn\u001b[0m \u001b[0mself\u001b[0m\u001b[0;34m.\u001b[0m\u001b[0m_getitem_axis\u001b[0m\u001b[0;34m(\u001b[0m\u001b[0mmaybe_callable\u001b[0m\u001b[0;34m,\u001b[0m \u001b[0maxis\u001b[0m\u001b[0;34m=\u001b[0m\u001b[0maxis\u001b[0m\u001b[0;34m)\u001b[0m\u001b[0;34m\u001b[0m\u001b[0;34m\u001b[0m\u001b[0m\n\u001b[0m\u001b[1;32m   1411\u001b[0m \u001b[0;34m\u001b[0m\u001b[0m\n\u001b[1;32m   1412\u001b[0m     \u001b[0;32mdef\u001b[0m \u001b[0m_is_scalar_access\u001b[0m\u001b[0;34m(\u001b[0m\u001b[0mself\u001b[0m\u001b[0;34m,\u001b[0m \u001b[0mkey\u001b[0m\u001b[0;34m:\u001b[0m \u001b[0mTuple\u001b[0m\u001b[0;34m)\u001b[0m\u001b[0;34m:\u001b[0m\u001b[0;34m\u001b[0m\u001b[0;34m\u001b[0m\u001b[0m\n",
      "\u001b[0;32m/opt/conda/lib/python3.7/site-packages/pandas/core/indexing.py\u001b[0m in \u001b[0;36m_getitem_axis\u001b[0;34m(self, key, axis)\u001b[0m\n\u001b[1;32m   1822\u001b[0m \u001b[0;34m\u001b[0m\u001b[0m\n\u001b[1;32m   1823\u001b[0m         \u001b[0;31m# fall thru to straight lookup\u001b[0m\u001b[0;34m\u001b[0m\u001b[0;34m\u001b[0m\u001b[0;34m\u001b[0m\u001b[0m\n\u001b[0;32m-> 1824\u001b[0;31m         \u001b[0mself\u001b[0m\u001b[0;34m.\u001b[0m\u001b[0m_validate_key\u001b[0m\u001b[0;34m(\u001b[0m\u001b[0mkey\u001b[0m\u001b[0;34m,\u001b[0m \u001b[0maxis\u001b[0m\u001b[0;34m)\u001b[0m\u001b[0;34m\u001b[0m\u001b[0;34m\u001b[0m\u001b[0m\n\u001b[0m\u001b[1;32m   1825\u001b[0m         \u001b[0;32mreturn\u001b[0m \u001b[0mself\u001b[0m\u001b[0;34m.\u001b[0m\u001b[0m_get_label\u001b[0m\u001b[0;34m(\u001b[0m\u001b[0mkey\u001b[0m\u001b[0;34m,\u001b[0m \u001b[0maxis\u001b[0m\u001b[0;34m=\u001b[0m\u001b[0maxis\u001b[0m\u001b[0;34m)\u001b[0m\u001b[0;34m\u001b[0m\u001b[0;34m\u001b[0m\u001b[0m\n\u001b[1;32m   1826\u001b[0m \u001b[0;34m\u001b[0m\u001b[0m\n",
      "\u001b[0;32m/opt/conda/lib/python3.7/site-packages/pandas/core/indexing.py\u001b[0m in \u001b[0;36m_validate_key\u001b[0;34m(self, key, axis)\u001b[0m\n\u001b[1;32m   1709\u001b[0m \u001b[0;34m\u001b[0m\u001b[0m\n\u001b[1;32m   1710\u001b[0m         \u001b[0;32mif\u001b[0m \u001b[0;32mnot\u001b[0m \u001b[0mis_list_like_indexer\u001b[0m\u001b[0;34m(\u001b[0m\u001b[0mkey\u001b[0m\u001b[0;34m)\u001b[0m\u001b[0;34m:\u001b[0m\u001b[0;34m\u001b[0m\u001b[0;34m\u001b[0m\u001b[0m\n\u001b[0;32m-> 1711\u001b[0;31m             \u001b[0mself\u001b[0m\u001b[0;34m.\u001b[0m\u001b[0m_convert_scalar_indexer\u001b[0m\u001b[0;34m(\u001b[0m\u001b[0mkey\u001b[0m\u001b[0;34m,\u001b[0m \u001b[0maxis\u001b[0m\u001b[0;34m)\u001b[0m\u001b[0;34m\u001b[0m\u001b[0;34m\u001b[0m\u001b[0m\n\u001b[0m\u001b[1;32m   1712\u001b[0m \u001b[0;34m\u001b[0m\u001b[0m\n\u001b[1;32m   1713\u001b[0m     \u001b[0;32mdef\u001b[0m \u001b[0m_is_scalar_access\u001b[0m\u001b[0;34m(\u001b[0m\u001b[0mself\u001b[0m\u001b[0;34m,\u001b[0m \u001b[0mkey\u001b[0m\u001b[0;34m:\u001b[0m \u001b[0mTuple\u001b[0m\u001b[0;34m)\u001b[0m\u001b[0;34m:\u001b[0m\u001b[0;34m\u001b[0m\u001b[0;34m\u001b[0m\u001b[0m\n",
      "\u001b[0;32m/opt/conda/lib/python3.7/site-packages/pandas/core/indexing.py\u001b[0m in \u001b[0;36m_convert_scalar_indexer\u001b[0;34m(self, key, axis)\u001b[0m\n\u001b[1;32m    269\u001b[0m         \u001b[0max\u001b[0m \u001b[0;34m=\u001b[0m \u001b[0mself\u001b[0m\u001b[0;34m.\u001b[0m\u001b[0mobj\u001b[0m\u001b[0;34m.\u001b[0m\u001b[0m_get_axis\u001b[0m\u001b[0;34m(\u001b[0m\u001b[0mmin\u001b[0m\u001b[0;34m(\u001b[0m\u001b[0maxis\u001b[0m\u001b[0;34m,\u001b[0m \u001b[0mself\u001b[0m\u001b[0;34m.\u001b[0m\u001b[0mndim\u001b[0m \u001b[0;34m-\u001b[0m \u001b[0;36m1\u001b[0m\u001b[0;34m)\u001b[0m\u001b[0;34m)\u001b[0m\u001b[0;34m\u001b[0m\u001b[0;34m\u001b[0m\u001b[0m\n\u001b[1;32m    270\u001b[0m         \u001b[0;31m# a scalar\u001b[0m\u001b[0;34m\u001b[0m\u001b[0;34m\u001b[0m\u001b[0;34m\u001b[0m\u001b[0m\n\u001b[0;32m--> 271\u001b[0;31m         \u001b[0;32mreturn\u001b[0m \u001b[0max\u001b[0m\u001b[0;34m.\u001b[0m\u001b[0m_convert_scalar_indexer\u001b[0m\u001b[0;34m(\u001b[0m\u001b[0mkey\u001b[0m\u001b[0;34m,\u001b[0m \u001b[0mkind\u001b[0m\u001b[0;34m=\u001b[0m\u001b[0mself\u001b[0m\u001b[0;34m.\u001b[0m\u001b[0mname\u001b[0m\u001b[0;34m)\u001b[0m\u001b[0;34m\u001b[0m\u001b[0;34m\u001b[0m\u001b[0m\n\u001b[0m\u001b[1;32m    272\u001b[0m \u001b[0;34m\u001b[0m\u001b[0m\n\u001b[1;32m    273\u001b[0m     \u001b[0;32mdef\u001b[0m \u001b[0m_convert_slice_indexer\u001b[0m\u001b[0;34m(\u001b[0m\u001b[0mself\u001b[0m\u001b[0;34m,\u001b[0m \u001b[0mkey\u001b[0m\u001b[0;34m,\u001b[0m \u001b[0maxis\u001b[0m\u001b[0;34m:\u001b[0m \u001b[0mint\u001b[0m\u001b[0;34m)\u001b[0m\u001b[0;34m:\u001b[0m\u001b[0;34m\u001b[0m\u001b[0;34m\u001b[0m\u001b[0m\n",
      "\u001b[0;32m/opt/conda/lib/python3.7/site-packages/pandas/core/indexes/base.py\u001b[0m in \u001b[0;36m_convert_scalar_indexer\u001b[0;34m(self, key, kind)\u001b[0m\n\u001b[1;32m   3129\u001b[0m             \u001b[0;32melif\u001b[0m \u001b[0mkind\u001b[0m \u001b[0;32min\u001b[0m \u001b[0;34m[\u001b[0m\u001b[0;34m\"loc\"\u001b[0m\u001b[0;34m]\u001b[0m \u001b[0;32mand\u001b[0m \u001b[0mis_integer\u001b[0m\u001b[0;34m(\u001b[0m\u001b[0mkey\u001b[0m\u001b[0;34m)\u001b[0m\u001b[0;34m:\u001b[0m\u001b[0;34m\u001b[0m\u001b[0;34m\u001b[0m\u001b[0m\n\u001b[1;32m   3130\u001b[0m                 \u001b[0;32mif\u001b[0m \u001b[0;32mnot\u001b[0m \u001b[0mself\u001b[0m\u001b[0;34m.\u001b[0m\u001b[0mholds_integer\u001b[0m\u001b[0;34m(\u001b[0m\u001b[0;34m)\u001b[0m\u001b[0;34m:\u001b[0m\u001b[0;34m\u001b[0m\u001b[0;34m\u001b[0m\u001b[0m\n\u001b[0;32m-> 3131\u001b[0;31m                     \u001b[0;32mreturn\u001b[0m \u001b[0mself\u001b[0m\u001b[0;34m.\u001b[0m\u001b[0m_invalid_indexer\u001b[0m\u001b[0;34m(\u001b[0m\u001b[0;34m\"label\"\u001b[0m\u001b[0;34m,\u001b[0m \u001b[0mkey\u001b[0m\u001b[0;34m)\u001b[0m\u001b[0;34m\u001b[0m\u001b[0;34m\u001b[0m\u001b[0m\n\u001b[0m\u001b[1;32m   3132\u001b[0m \u001b[0;34m\u001b[0m\u001b[0m\n\u001b[1;32m   3133\u001b[0m         \u001b[0;32mreturn\u001b[0m \u001b[0mkey\u001b[0m\u001b[0;34m\u001b[0m\u001b[0;34m\u001b[0m\u001b[0m\n",
      "\u001b[0;32m/opt/conda/lib/python3.7/site-packages/pandas/core/indexes/base.py\u001b[0m in \u001b[0;36m_invalid_indexer\u001b[0;34m(self, form, key)\u001b[0m\n\u001b[1;32m   3331\u001b[0m             \u001b[0;34m\"cannot do {form} indexing on {klass} with these \"\u001b[0m\u001b[0;34m\u001b[0m\u001b[0;34m\u001b[0m\u001b[0m\n\u001b[1;32m   3332\u001b[0m             \"indexers [{key}] of {kind}\".format(\n\u001b[0;32m-> 3333\u001b[0;31m                 \u001b[0mform\u001b[0m\u001b[0;34m=\u001b[0m\u001b[0mform\u001b[0m\u001b[0;34m,\u001b[0m \u001b[0mklass\u001b[0m\u001b[0;34m=\u001b[0m\u001b[0mtype\u001b[0m\u001b[0;34m(\u001b[0m\u001b[0mself\u001b[0m\u001b[0;34m)\u001b[0m\u001b[0;34m,\u001b[0m \u001b[0mkey\u001b[0m\u001b[0;34m=\u001b[0m\u001b[0mkey\u001b[0m\u001b[0;34m,\u001b[0m \u001b[0mkind\u001b[0m\u001b[0;34m=\u001b[0m\u001b[0mtype\u001b[0m\u001b[0;34m(\u001b[0m\u001b[0mkey\u001b[0m\u001b[0;34m)\u001b[0m\u001b[0;34m\u001b[0m\u001b[0;34m\u001b[0m\u001b[0m\n\u001b[0m\u001b[1;32m   3334\u001b[0m             )\n\u001b[1;32m   3335\u001b[0m         )\n",
      "\u001b[0;31mTypeError\u001b[0m: cannot do label indexing on <class 'pandas.core.indexes.base.Index'> with these indexers [1] of <class 'int'>"
     ]
    }
   ],
   "source": [
    "s2.loc[1]"
   ]
  },
  {
   "cell_type": "code",
   "execution_count": 46,
   "metadata": {},
   "outputs": [
    {
     "data": {
      "text/plain": [
       "'Alice'"
      ]
     },
     "execution_count": 46,
     "metadata": {},
     "output_type": "execute_result"
    }
   ],
   "source": [
    "s1.loc[1]"
   ]
  },
  {
   "cell_type": "code",
   "execution_count": null,
   "metadata": {},
   "outputs": [],
   "source": []
  }
 ],
 "metadata": {
  "kernelspec": {
   "display_name": "Python 3",
   "language": "python",
   "name": "python3"
  },
  "language_info": {
   "codemirror_mode": {
    "name": "ipython",
    "version": 3
   },
   "file_extension": ".py",
   "mimetype": "text/x-python",
   "name": "python",
   "nbconvert_exporter": "python",
   "pygments_lexer": "ipython3",
   "version": "3.7.3"
  }
 },
 "nbformat": 4,
 "nbformat_minor": 2
}
